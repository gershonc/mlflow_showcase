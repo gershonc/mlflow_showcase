{
 "cells": [
  {
   "cell_type": "code",
   "execution_count": 204,
   "metadata": {},
   "outputs": [],
   "source": [
    "import sklearn\n",
    "import lightgbm as lgb\n",
    "import pandas as pd\n",
    "import numpy as np\n",
    "from sklearn.model_selection import train_test_split\n",
    "from sklearn.preprocessing import LabelEncoder\n",
    "from sklearn.datasets import load_wine\n",
    "import mlflow as mf\n",
    "from mlflow import log_metric, log_param, log_artifact\n",
    "import mlflow.lightgbm\n",
    "import matplotlib.pyplot as plt\n",
    "import seaborn as sns\n",
    "import logging\n",
    "logging.basicConfig(level = logging.INFO)\n",
    "logger = logging.getLogger()\n",
    "\n",
    "pd.options.display.max_rows = 50\n",
    "pd.options.display.max_columns = 50\n",
    "%matplotlib inline\n",
    "\n",
    "dataset = load_wine()"
   ]
  },
  {
   "cell_type": "markdown",
   "metadata": {},
   "source": [
    "## ML Evaluation plot"
   ]
  },
  {
   "cell_type": "code",
   "execution_count": 219,
   "metadata": {},
   "outputs": [],
   "source": [
    "def plotImp(model, X , title,num = 16):\n",
    "    feature_imp = pd.DataFrame({'Value':model.feature_importance(),'Feature':X.columns})\n",
    "    plt.figure(figsize=(12,7))\n",
    "    sns.set(font_scale = 1.1)\n",
    "    sns.barplot(color=\"lightblue\",x=\"Value\", y=\"Feature\", data=feature_imp.sort_values(by=\"Value\", \n",
    "                                                        ascending=False)[0:num])\n",
    "    plt.title(title)\n",
    "    plt.tight_layout()\n",
    "    plt.savefig('Importances')\n",
    "    \n",
    "    \n",
    "    #plt.savefig(fig2_fn)\n",
    "   \n",
    "    fig1_fn = 'figure_importants.png'\n",
    "    plt.savefig(fig1_fn)\n",
    "    mlflow.log_artifact(fig1_fn) # logging to mlflow   \n",
    "    plt.show()\n",
    "  \n",
    "    \n",
    "def confusion_matrix_test(y_test, y_predict):\n",
    "    plt.figure()\n",
    "    cm = confusion_matrix(y_test, y_predict)\n",
    "    cmn = cm.astype('float') / cm.sum(axis=1)[:, np.newaxis]*100\n",
    "    sns.set(font_scale=1.2)\n",
    "    labels = ['0', '1','2']\n",
    "    plt.figure(figsize=(8,7))\n",
    "    #sns.heatmap(cm, xticklabels = labels, yticklabels = labels, annot = True, fmt='d', cmap=\"Blues\", vmin = 0.2);\n",
    "    sns.heatmap(cmn, xticklabels = labels, yticklabels = labels, annot = True, fmt='.2f', cmap=\"Blues\")\n",
    "    plt.title('Confusion Matrix')\n",
    "    plt.ylabel('True Class')\n",
    "    plt.xlabel('Predicted Class')\n",
    "\n",
    "    fig1_fn = 'cm.png'\n",
    "    plt.savefig(fig1_fn)\n",
    "    mlflow.log_artifact(fig1_fn) # logging to mlflow   \n",
    "    plt.show()\n",
    "    \n",
    "    \n",
    "    plt.show()"
   ]
  },
  {
   "cell_type": "markdown",
   "metadata": {},
   "source": [
    "## Data preprocessing and EDA"
   ]
  },
  {
   "cell_type": "code",
   "execution_count": 206,
   "metadata": {},
   "outputs": [],
   "source": [
    "data = pd.DataFrame(data= np.c_[dataset['data'], dataset['target']],\n",
    "                     columns= dataset['feature_names'] + ['target'])\n",
    "#data.to_csv('data.csv')"
   ]
  },
  {
   "cell_type": "code",
   "execution_count": 207,
   "metadata": {},
   "outputs": [
    {
     "data": {
      "text/html": [
       "<div>\n",
       "<style scoped>\n",
       "    .dataframe tbody tr th:only-of-type {\n",
       "        vertical-align: middle;\n",
       "    }\n",
       "\n",
       "    .dataframe tbody tr th {\n",
       "        vertical-align: top;\n",
       "    }\n",
       "\n",
       "    .dataframe thead th {\n",
       "        text-align: right;\n",
       "    }\n",
       "</style>\n",
       "<table border=\"1\" class=\"dataframe\">\n",
       "  <thead>\n",
       "    <tr style=\"text-align: right;\">\n",
       "      <th></th>\n",
       "      <th>alcohol</th>\n",
       "      <th>malic_acid</th>\n",
       "      <th>ash</th>\n",
       "      <th>alcalinity_of_ash</th>\n",
       "      <th>magnesium</th>\n",
       "      <th>total_phenols</th>\n",
       "      <th>flavanoids</th>\n",
       "      <th>nonflavanoid_phenols</th>\n",
       "      <th>proanthocyanins</th>\n",
       "      <th>color_intensity</th>\n",
       "      <th>hue</th>\n",
       "      <th>od280/od315_of_diluted_wines</th>\n",
       "      <th>proline</th>\n",
       "      <th>target</th>\n",
       "    </tr>\n",
       "  </thead>\n",
       "  <tbody>\n",
       "    <tr>\n",
       "      <th>0</th>\n",
       "      <td>14.23</td>\n",
       "      <td>1.71</td>\n",
       "      <td>2.43</td>\n",
       "      <td>15.6</td>\n",
       "      <td>127.0</td>\n",
       "      <td>2.80</td>\n",
       "      <td>3.06</td>\n",
       "      <td>0.28</td>\n",
       "      <td>2.29</td>\n",
       "      <td>5.64</td>\n",
       "      <td>1.04</td>\n",
       "      <td>3.92</td>\n",
       "      <td>1065.0</td>\n",
       "      <td>0.0</td>\n",
       "    </tr>\n",
       "    <tr>\n",
       "      <th>1</th>\n",
       "      <td>13.20</td>\n",
       "      <td>1.78</td>\n",
       "      <td>2.14</td>\n",
       "      <td>11.2</td>\n",
       "      <td>100.0</td>\n",
       "      <td>2.65</td>\n",
       "      <td>2.76</td>\n",
       "      <td>0.26</td>\n",
       "      <td>1.28</td>\n",
       "      <td>4.38</td>\n",
       "      <td>1.05</td>\n",
       "      <td>3.40</td>\n",
       "      <td>1050.0</td>\n",
       "      <td>0.0</td>\n",
       "    </tr>\n",
       "  </tbody>\n",
       "</table>\n",
       "</div>"
      ],
      "text/plain": [
       "   alcohol  malic_acid   ash  alcalinity_of_ash  magnesium  total_phenols  \\\n",
       "0    14.23        1.71  2.43               15.6      127.0           2.80   \n",
       "1    13.20        1.78  2.14               11.2      100.0           2.65   \n",
       "\n",
       "   flavanoids  nonflavanoid_phenols  proanthocyanins  color_intensity   hue  \\\n",
       "0        3.06                  0.28             2.29             5.64  1.04   \n",
       "1        2.76                  0.26             1.28             4.38  1.05   \n",
       "\n",
       "   od280/od315_of_diluted_wines  proline  target  \n",
       "0                          3.92   1065.0     0.0  \n",
       "1                          3.40   1050.0     0.0  "
      ]
     },
     "execution_count": 207,
     "metadata": {},
     "output_type": "execute_result"
    }
   ],
   "source": [
    "data.head(2)"
   ]
  },
  {
   "cell_type": "code",
   "execution_count": 208,
   "metadata": {},
   "outputs": [
    {
     "data": {
      "text/html": [
       "<div>\n",
       "<style scoped>\n",
       "    .dataframe tbody tr th:only-of-type {\n",
       "        vertical-align: middle;\n",
       "    }\n",
       "\n",
       "    .dataframe tbody tr th {\n",
       "        vertical-align: top;\n",
       "    }\n",
       "\n",
       "    .dataframe thead th {\n",
       "        text-align: right;\n",
       "    }\n",
       "</style>\n",
       "<table border=\"1\" class=\"dataframe\">\n",
       "  <thead>\n",
       "    <tr style=\"text-align: right;\">\n",
       "      <th></th>\n",
       "      <th>alcohol</th>\n",
       "      <th>malic_acid</th>\n",
       "      <th>ash</th>\n",
       "      <th>alcalinity_of_ash</th>\n",
       "      <th>magnesium</th>\n",
       "      <th>total_phenols</th>\n",
       "      <th>flavanoids</th>\n",
       "      <th>nonflavanoid_phenols</th>\n",
       "      <th>proanthocyanins</th>\n",
       "      <th>color_intensity</th>\n",
       "      <th>hue</th>\n",
       "      <th>od280/od315_of_diluted_wines</th>\n",
       "      <th>proline</th>\n",
       "      <th>target</th>\n",
       "    </tr>\n",
       "  </thead>\n",
       "  <tbody>\n",
       "    <tr>\n",
       "      <th>count</th>\n",
       "      <td>178.000000</td>\n",
       "      <td>178.000000</td>\n",
       "      <td>178.000000</td>\n",
       "      <td>178.000000</td>\n",
       "      <td>178.000000</td>\n",
       "      <td>178.000000</td>\n",
       "      <td>178.000000</td>\n",
       "      <td>178.000000</td>\n",
       "      <td>178.000000</td>\n",
       "      <td>178.000000</td>\n",
       "      <td>178.000000</td>\n",
       "      <td>178.000000</td>\n",
       "      <td>178.000000</td>\n",
       "      <td>178.000000</td>\n",
       "    </tr>\n",
       "    <tr>\n",
       "      <th>mean</th>\n",
       "      <td>13.000618</td>\n",
       "      <td>2.336348</td>\n",
       "      <td>2.366517</td>\n",
       "      <td>19.494944</td>\n",
       "      <td>99.741573</td>\n",
       "      <td>2.295112</td>\n",
       "      <td>2.029270</td>\n",
       "      <td>0.361854</td>\n",
       "      <td>1.590899</td>\n",
       "      <td>5.058090</td>\n",
       "      <td>0.957449</td>\n",
       "      <td>2.611685</td>\n",
       "      <td>746.893258</td>\n",
       "      <td>0.938202</td>\n",
       "    </tr>\n",
       "    <tr>\n",
       "      <th>std</th>\n",
       "      <td>0.811827</td>\n",
       "      <td>1.117146</td>\n",
       "      <td>0.274344</td>\n",
       "      <td>3.339564</td>\n",
       "      <td>14.282484</td>\n",
       "      <td>0.625851</td>\n",
       "      <td>0.998859</td>\n",
       "      <td>0.124453</td>\n",
       "      <td>0.572359</td>\n",
       "      <td>2.318286</td>\n",
       "      <td>0.228572</td>\n",
       "      <td>0.709990</td>\n",
       "      <td>314.907474</td>\n",
       "      <td>0.775035</td>\n",
       "    </tr>\n",
       "    <tr>\n",
       "      <th>min</th>\n",
       "      <td>11.030000</td>\n",
       "      <td>0.740000</td>\n",
       "      <td>1.360000</td>\n",
       "      <td>10.600000</td>\n",
       "      <td>70.000000</td>\n",
       "      <td>0.980000</td>\n",
       "      <td>0.340000</td>\n",
       "      <td>0.130000</td>\n",
       "      <td>0.410000</td>\n",
       "      <td>1.280000</td>\n",
       "      <td>0.480000</td>\n",
       "      <td>1.270000</td>\n",
       "      <td>278.000000</td>\n",
       "      <td>0.000000</td>\n",
       "    </tr>\n",
       "    <tr>\n",
       "      <th>25%</th>\n",
       "      <td>12.362500</td>\n",
       "      <td>1.602500</td>\n",
       "      <td>2.210000</td>\n",
       "      <td>17.200000</td>\n",
       "      <td>88.000000</td>\n",
       "      <td>1.742500</td>\n",
       "      <td>1.205000</td>\n",
       "      <td>0.270000</td>\n",
       "      <td>1.250000</td>\n",
       "      <td>3.220000</td>\n",
       "      <td>0.782500</td>\n",
       "      <td>1.937500</td>\n",
       "      <td>500.500000</td>\n",
       "      <td>0.000000</td>\n",
       "    </tr>\n",
       "    <tr>\n",
       "      <th>50%</th>\n",
       "      <td>13.050000</td>\n",
       "      <td>1.865000</td>\n",
       "      <td>2.360000</td>\n",
       "      <td>19.500000</td>\n",
       "      <td>98.000000</td>\n",
       "      <td>2.355000</td>\n",
       "      <td>2.135000</td>\n",
       "      <td>0.340000</td>\n",
       "      <td>1.555000</td>\n",
       "      <td>4.690000</td>\n",
       "      <td>0.965000</td>\n",
       "      <td>2.780000</td>\n",
       "      <td>673.500000</td>\n",
       "      <td>1.000000</td>\n",
       "    </tr>\n",
       "    <tr>\n",
       "      <th>75%</th>\n",
       "      <td>13.677500</td>\n",
       "      <td>3.082500</td>\n",
       "      <td>2.557500</td>\n",
       "      <td>21.500000</td>\n",
       "      <td>107.000000</td>\n",
       "      <td>2.800000</td>\n",
       "      <td>2.875000</td>\n",
       "      <td>0.437500</td>\n",
       "      <td>1.950000</td>\n",
       "      <td>6.200000</td>\n",
       "      <td>1.120000</td>\n",
       "      <td>3.170000</td>\n",
       "      <td>985.000000</td>\n",
       "      <td>2.000000</td>\n",
       "    </tr>\n",
       "    <tr>\n",
       "      <th>max</th>\n",
       "      <td>14.830000</td>\n",
       "      <td>5.800000</td>\n",
       "      <td>3.230000</td>\n",
       "      <td>30.000000</td>\n",
       "      <td>162.000000</td>\n",
       "      <td>3.880000</td>\n",
       "      <td>5.080000</td>\n",
       "      <td>0.660000</td>\n",
       "      <td>3.580000</td>\n",
       "      <td>13.000000</td>\n",
       "      <td>1.710000</td>\n",
       "      <td>4.000000</td>\n",
       "      <td>1680.000000</td>\n",
       "      <td>2.000000</td>\n",
       "    </tr>\n",
       "  </tbody>\n",
       "</table>\n",
       "</div>"
      ],
      "text/plain": [
       "          alcohol  malic_acid         ash  alcalinity_of_ash   magnesium  \\\n",
       "count  178.000000  178.000000  178.000000         178.000000  178.000000   \n",
       "mean    13.000618    2.336348    2.366517          19.494944   99.741573   \n",
       "std      0.811827    1.117146    0.274344           3.339564   14.282484   \n",
       "min     11.030000    0.740000    1.360000          10.600000   70.000000   \n",
       "25%     12.362500    1.602500    2.210000          17.200000   88.000000   \n",
       "50%     13.050000    1.865000    2.360000          19.500000   98.000000   \n",
       "75%     13.677500    3.082500    2.557500          21.500000  107.000000   \n",
       "max     14.830000    5.800000    3.230000          30.000000  162.000000   \n",
       "\n",
       "       total_phenols  flavanoids  nonflavanoid_phenols  proanthocyanins  \\\n",
       "count     178.000000  178.000000            178.000000       178.000000   \n",
       "mean        2.295112    2.029270              0.361854         1.590899   \n",
       "std         0.625851    0.998859              0.124453         0.572359   \n",
       "min         0.980000    0.340000              0.130000         0.410000   \n",
       "25%         1.742500    1.205000              0.270000         1.250000   \n",
       "50%         2.355000    2.135000              0.340000         1.555000   \n",
       "75%         2.800000    2.875000              0.437500         1.950000   \n",
       "max         3.880000    5.080000              0.660000         3.580000   \n",
       "\n",
       "       color_intensity         hue  od280/od315_of_diluted_wines      proline  \\\n",
       "count       178.000000  178.000000                    178.000000   178.000000   \n",
       "mean          5.058090    0.957449                      2.611685   746.893258   \n",
       "std           2.318286    0.228572                      0.709990   314.907474   \n",
       "min           1.280000    0.480000                      1.270000   278.000000   \n",
       "25%           3.220000    0.782500                      1.937500   500.500000   \n",
       "50%           4.690000    0.965000                      2.780000   673.500000   \n",
       "75%           6.200000    1.120000                      3.170000   985.000000   \n",
       "max          13.000000    1.710000                      4.000000  1680.000000   \n",
       "\n",
       "           target  \n",
       "count  178.000000  \n",
       "mean     0.938202  \n",
       "std      0.775035  \n",
       "min      0.000000  \n",
       "25%      0.000000  \n",
       "50%      1.000000  \n",
       "75%      2.000000  \n",
       "max      2.000000  "
      ]
     },
     "execution_count": 208,
     "metadata": {},
     "output_type": "execute_result"
    }
   ],
   "source": [
    "data.describe()"
   ]
  },
  {
   "cell_type": "code",
   "execution_count": 209,
   "metadata": {},
   "outputs": [
    {
     "data": {
      "text/plain": [
       "<matplotlib.axes._subplots.AxesSubplot at 0x7f991a2a8c50>"
      ]
     },
     "execution_count": 209,
     "metadata": {},
     "output_type": "execute_result"
    },
    {
     "data": {
      "image/png": "[encoded data removed]",
      "text/plain": [
       "<Figure size 432x288 with 1 Axes>"
      ]
     },
     "metadata": {
      "needs_background": "light"
     },
     "output_type": "display_data"
    }
   ],
   "source": [
    "data.target.value_counts().plot.bar()"
   ]
  },
  {
   "cell_type": "code",
   "execution_count": 210,
   "metadata": {},
   "outputs": [
    {
     "data": {
      "text/plain": [
       "<matplotlib.axes._subplots.AxesSubplot at 0x7f991960c7d0>"
      ]
     },
     "execution_count": 210,
     "metadata": {},
     "output_type": "execute_result"
    },
    {
     "data": {
      "image/png": "[encoded data removed]",
      "text/plain": [
       "<Figure size 432x288 with 1 Axes>"
      ]
     },
     "metadata": {
      "needs_background": "light"
     },
     "output_type": "display_data"
    }
   ],
   "source": [
    "data.pivot(columns='target').alcohol.plot(alpha=0.6,kind = 'hist',bins=20)\n"
   ]
  },
  {
   "cell_type": "code",
   "execution_count": 211,
   "metadata": {},
   "outputs": [
    {
     "data": {
      "text/plain": [
       "<matplotlib.axes._subplots.AxesSubplot at 0x7f991a087a50>"
      ]
     },
     "execution_count": 211,
     "metadata": {},
     "output_type": "execute_result"
    },
    {
     "data": {
      "image/png": "[encoded data removed]",
      "text/plain": [
       "<Figure size 432x288 with 1 Axes>"
      ]
     },
     "metadata": {
      "needs_background": "light"
     },
     "output_type": "display_data"
    }
   ],
   "source": [
    "data.pivot(columns='target').color_intensity.plot(alpha=0.6,kind = 'hist', bins=20)"
   ]
  },
  {
   "cell_type": "code",
   "execution_count": 212,
   "metadata": {},
   "outputs": [
    {
     "name": "stderr",
     "output_type": "stream",
     "text": [
      "INFO:root:Split into train set shape (133, 13) and test set shape (45, 13)\n"
     ]
    }
   ],
   "source": [
    "X = data.drop(columns=['target'])\n",
    "y = data['target']\n",
    "\n",
    "X_train, X_test, y_train, y_test = train_test_split(X, y, test_size = 0.25, random_state = 100)\n",
    "logger.info(f'Split into train set shape {X_train.shape} and test set shape {X_test.shape}')\n"
   ]
  },
  {
   "cell_type": "markdown",
   "metadata": {},
   "source": [
    "## Model Training with MLFlow tracking "
   ]
  },
  {
   "cell_type": "code",
   "execution_count": 213,
   "metadata": {},
   "outputs": [],
   "source": [
    "train_set = lgb.Dataset(X_train, label=y_train)\n",
    "test_set  = lgb.Dataset(X_test, label = y_test)"
   ]
  },
  {
   "cell_type": "code",
   "execution_count": 222,
   "metadata": {},
   "outputs": [
    {
     "name": "stdout",
     "output_type": "stream",
     "text": [
      "[1]\ttest's multi_logloss: 1.14748\n",
      "[2]\ttest's multi_logloss: 1.13691\n",
      "[3]\ttest's multi_logloss: 1.12659\n",
      "[4]\ttest's multi_logloss: 1.1164\n",
      "[5]\ttest's multi_logloss: 1.10645\n",
      "[6]\ttest's multi_logloss: 1.09668\n",
      "[7]\ttest's multi_logloss: 1.08709\n",
      "[8]\ttest's multi_logloss: 1.07762\n",
      "[9]\ttest's multi_logloss: 1.06836\n",
      "[10]\ttest's multi_logloss: 1.05927\n",
      "[11]\ttest's multi_logloss: 1.05016\n",
      "[12]\ttest's multi_logloss: 1.04137\n",
      "[13]\ttest's multi_logloss: 1.03277\n",
      "[14]\ttest's multi_logloss: 1.02395\n",
      "[15]\ttest's multi_logloss: 1.01563\n",
      "[16]\ttest's multi_logloss: 1.00739\n",
      "[17]\ttest's multi_logloss: 0.99916\n",
      "[18]\ttest's multi_logloss: 0.990706\n",
      "[19]\ttest's multi_logloss: 0.982757\n",
      "[20]\ttest's multi_logloss: 0.974962\n",
      "[21]\ttest's multi_logloss: 0.966896\n",
      "[22]\ttest's multi_logloss: 0.95919\n",
      "[23]\ttest's multi_logloss: 0.951504\n",
      "[24]\ttest's multi_logloss: 0.943844\n",
      "[25]\ttest's multi_logloss: 0.936485\n",
      "[26]\ttest's multi_logloss: 0.929161\n",
      "[27]\ttest's multi_logloss: 0.921785\n",
      "[28]\ttest's multi_logloss: 0.914768\n",
      "[29]\ttest's multi_logloss: 0.907804\n",
      "[30]\ttest's multi_logloss: 0.900951\n",
      "[31]\ttest's multi_logloss: 0.894188\n",
      "[32]\ttest's multi_logloss: 0.887388\n",
      "[33]\ttest's multi_logloss: 0.880842\n",
      "[34]\ttest's multi_logloss: 0.874318\n",
      "[35]\ttest's multi_logloss: 0.867993\n",
      "[36]\ttest's multi_logloss: 0.861662\n",
      "[37]\ttest's multi_logloss: 0.855333\n",
      "[38]\ttest's multi_logloss: 0.849287\n",
      "[39]\ttest's multi_logloss: 0.843218\n",
      "[40]\ttest's multi_logloss: 0.837337\n",
      "[41]\ttest's multi_logloss: 0.831314\n",
      "[42]\ttest's multi_logloss: 0.825725\n",
      "[43]\ttest's multi_logloss: 0.81982\n",
      "[44]\ttest's multi_logloss: 0.814268\n",
      "[45]\ttest's multi_logloss: 0.808714\n",
      "[46]\ttest's multi_logloss: 0.803088\n",
      "[47]\ttest's multi_logloss: 0.79777\n",
      "[48]\ttest's multi_logloss: 0.792402\n",
      "[49]\ttest's multi_logloss: 0.787223\n",
      "[50]\ttest's multi_logloss: 0.782032\n",
      "[51]\ttest's multi_logloss: 0.776964\n",
      "[52]\ttest's multi_logloss: 0.771767\n",
      "[53]\ttest's multi_logloss: 0.766831\n",
      "[54]\ttest's multi_logloss: 0.761906\n",
      "[55]\ttest's multi_logloss: 0.757108\n",
      "[56]\ttest's multi_logloss: 0.75231\n",
      "[57]\ttest's multi_logloss: 0.747632\n",
      "[58]\ttest's multi_logloss: 0.742956\n",
      "[59]\ttest's multi_logloss: 0.738408\n",
      "[60]\ttest's multi_logloss: 0.733757\n",
      "[61]\ttest's multi_logloss: 0.729456\n",
      "[62]\ttest's multi_logloss: 0.725021\n",
      "[63]\ttest's multi_logloss: 0.720707\n",
      "[64]\ttest's multi_logloss: 0.716293\n",
      "[65]\ttest's multi_logloss: 0.712222\n",
      "[66]\ttest's multi_logloss: 0.708005\n",
      "[67]\ttest's multi_logloss: 0.703912\n",
      "[68]\ttest's multi_logloss: 0.699806\n",
      "[69]\ttest's multi_logloss: 0.695818\n",
      "[70]\ttest's multi_logloss: 0.691721\n",
      "[71]\ttest's multi_logloss: 0.687962\n",
      "[72]\ttest's multi_logloss: 0.684012\n",
      "[73]\ttest's multi_logloss: 0.680261\n",
      "[74]\ttest's multi_logloss: 0.676442\n",
      "[75]\ttest's multi_logloss: 0.672692\n",
      "[76]\ttest's multi_logloss: 0.66893\n",
      "[77]\ttest's multi_logloss: 0.665445\n",
      "[78]\ttest's multi_logloss: 0.66173\n",
      "[79]\ttest's multi_logloss: 0.658123\n",
      "[80]\ttest's multi_logloss: 0.65461\n",
      "[81]\ttest's multi_logloss: 0.65109\n",
      "[82]\ttest's multi_logloss: 0.647593\n",
      "[83]\ttest's multi_logloss: 0.644305\n",
      "[84]\ttest's multi_logloss: 0.640815\n",
      "[85]\ttest's multi_logloss: 0.637558\n",
      "[86]\ttest's multi_logloss: 0.634296\n",
      "[87]\ttest's multi_logloss: 0.63102\n",
      "[88]\ttest's multi_logloss: 0.627763\n",
      "[89]\ttest's multi_logloss: 0.624709\n",
      "[90]\ttest's multi_logloss: 0.621647\n",
      "[91]\ttest's multi_logloss: 0.61843\n",
      "[92]\ttest's multi_logloss: 0.615486\n",
      "[93]\ttest's multi_logloss: 0.612334\n",
      "[94]\ttest's multi_logloss: 0.609319\n",
      "[95]\ttest's multi_logloss: 0.606316\n",
      "[96]\ttest's multi_logloss: 0.603463\n",
      "[97]\ttest's multi_logloss: 0.600448\n",
      "[98]\ttest's multi_logloss: 0.597677\n",
      "[99]\ttest's multi_logloss: 0.594736\n",
      "[100]\ttest's multi_logloss: 0.591926\n",
      "              precision    recall  f1-score   support\n",
      "\n",
      "         0.0       1.00      1.00      1.00        10\n",
      "         1.0       0.77      1.00      0.87        17\n",
      "         2.0       1.00      0.72      0.84        18\n",
      "\n",
      "    accuracy                           0.89        45\n",
      "   macro avg       0.92      0.91      0.90        45\n",
      "weighted avg       0.91      0.89      0.89        45\n",
      "\n"
     ]
    },
    {
     "name": "stderr",
     "output_type": "stream",
     "text": [
      "INFO:root:f1_score macro: 0.9035015164047421\n",
      "INFO:root:precision_score macro: 0.9242424242424242\n",
      "INFO:root:recall_score macro: 0.9074074074074074\n",
      "INFO:root:f1_score weighted: 0.8870508225346936\n",
      "INFO:root:precision_score weighted: 0.9141414141414143\n",
      "INFO:root:recall_score weighted: 0.8888888888888888\n"
     ]
    },
    {
     "data": {
      "image/png": "[encoded data removed]",
      "text/plain": [
       "<Figure size 864x504 with 1 Axes>"
      ]
     },
     "metadata": {},
     "output_type": "display_data"
    },
    {
     "data": {
      "text/plain": [
       "<Figure size 864x504 with 0 Axes>"
      ]
     },
     "metadata": {},
     "output_type": "display_data"
    },
    {
     "data": {
      "image/png": "[encoded data removed]",
      "text/plain": [
       "<Figure size 576x504 with 2 Axes>"
      ]
     },
     "metadata": {},
     "output_type": "display_data"
    }
   ],
   "source": [
    "    mf.set_experiment('MLflow expriement example')\n",
    "\n",
    "    with mlflow.start_run():\n",
    "\n",
    "        params={}\n",
    "        params['learning_rate']=0.01\n",
    "        params['boosting_type']='gbdt' #GradientBoostingDecisionTree\n",
    "        params['objective']='multiclass' #Multi-class target feature\n",
    "        params['metric']='multi_logloss' #metric for multi-class\n",
    "        params['max_depth']=15\n",
    "        params['num_class']=3\n",
    "        \n",
    "             \n",
    "        clf = lgb.train(params, train_set, num_boost_round=100, valid_sets=[test_set], valid_names=['test'])\n",
    "        preds = clf.predict(X_test)\n",
    "        predictions = []\n",
    "\n",
    "        for x in preds:\n",
    "            predictions.append(np.argmax(x))\n",
    "        from sklearn.metrics import accuracy_score, f1_score, precision_score, recall_score, classification_report, confusion_matrix\n",
    "\n",
    "        print(classification_report(y_test, predictions))\n",
    "        \n",
    "        # log artifact: classification_report\n",
    "        plt.rc('figure', figsize=(12, 7))\n",
    "        plt.text(0.01, 0.05, str(classification_report(y_test, predictions)), {'fontsize': 10}, fontproperties = 'monospace') \n",
    "        plt.axis('off')\n",
    "        plt.tight_layout()\n",
    "        summary_fn = 'clf_summary.png'\n",
    "        plt.savefig(summary_fn)\n",
    "        mlflow.log_artifact(summary_fn) # logging to mlflow\n",
    "        plt.close()\n",
    "        \n",
    "        \n",
    "        \n",
    "        f1_macro=f1_score(y_test, predictions, average=\"macro\")\n",
    "        precision_macro=precision_score(y_test, predictions, average=\"macro\")\n",
    "        recall_macro=recall_score(y_test, predictions, average=\"macro\") \n",
    "        f1_weighted=f1_score(y_test, predictions, average=\"weighted\")\n",
    "        precision_weighted=precision_score(y_test, predictions, average=\"weighted\")\n",
    "        recall_weighted=recall_score(y_test, predictions, average=\"weighted\")\n",
    "        \n",
    "        logger.info(f'f1_score macro: {f1_macro}')\n",
    "        logger.info(f'precision_score macro: {precision_macro}')\n",
    "        logger.info(f'recall_score macro: {recall_macro}')\n",
    "        logger.info(f'f1_score weighted: {f1_weighted}')\n",
    "        logger.info(f'precision_score weighted: {precision_weighted}')\n",
    "        logger.info(f'recall_score weighted: {recall_weighted}')\n",
    "        \n",
    "        #log the ML model params and stats with MLflow \n",
    "        mf.log_param(\"learning_rate\", params['learning_rate'])\n",
    "        mf.log_param(\"max_depth\", params['max_depth'])\n",
    "        mf.log_param(\"boosting_type\",  params['boosting_type'])\n",
    "\n",
    "\n",
    "        mf.log_metric('F1_macro', f1_macro)\n",
    "        mf.log_metric('Precision_macro', precision_macro)\n",
    "        mf.log_metric('Recall_macro', recall_macro)\n",
    "        mf.log_metric('F1_score weighted', f1_weighted)\n",
    "        mf.log_metric('Precision_score weighted', precision_weighted)\n",
    "        mf.log_metric('Recall_score weighted', recall_weighted)\n",
    "        \n",
    "        mf.log_artifact('data.csv')\n",
    "        mf.lightgbm.log_model(model, 'clf')\n",
    "\n",
    "        plotImp(clf,X_train,'LightGBM Features importants plot')   \n",
    "        confusion_matrix_test(y_test, predictions)\n",
    "        mf.end_run()"
   ]
  },
  {
   "cell_type": "code",
   "execution_count": null,
   "metadata": {},
   "outputs": [],
   "source": []
  },
  {
   "cell_type": "code",
   "execution_count": 217,
   "metadata": {},
   "outputs": [],
   "source": [
    "mf.end_run()"
   ]
  },
  {
   "cell_type": "code",
   "execution_count": null,
   "metadata": {},
   "outputs": [],
   "source": []
  }
 ],
 "metadata": {
  "kernelspec": {
   "display_name": "Python 3",
   "language": "python",
   "name": "python3"
  },
  "language_info": {
   "codemirror_mode": {
    "name": "ipython",
    "version": 3
   },
   "file_extension": ".py",
   "mimetype": "text/x-python",
   "name": "python",
   "nbconvert_exporter": "python",
   "pygments_lexer": "ipython3",
   "version": "3.7.6"
  }
 },
 "nbformat": 4,
 "nbformat_minor": 4
}
